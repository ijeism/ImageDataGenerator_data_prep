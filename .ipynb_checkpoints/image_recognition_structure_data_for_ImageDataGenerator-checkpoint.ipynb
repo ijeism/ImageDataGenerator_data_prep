{
 "cells": [
  {
   "cell_type": "markdown",
   "metadata": {},
   "source": [
    "## Import packages"
   ]
  },
  {
   "cell_type": "code",
   "execution_count": 1,
   "metadata": {},
   "outputs": [],
   "source": [
    "from tensorflow.keras.preprocessing.image import ImageDataGenerator"
   ]
  },
  {
   "cell_type": "code",
   "execution_count": null,
   "metadata": {},
   "outputs": [],
   "source": [
    "!git clone https://github.com/ijeism/ImageDataGenerator_data_prep"
   ]
  },
  {
   "cell_type": "markdown",
   "metadata": {},
   "source": [
    "## Load data"
   ]
  },
  {
   "cell_type": "code",
   "execution_count": null,
   "metadata": {},
   "outputs": [],
   "source": [
    "\"\"\" \n",
    "Data for this example can be obtained from Kaggle. Make sure the data used is contained \n",
    "in one folder and that its class/label is apparent from the image name \n",
    "(i.e. 0__xyz.jpg vs 1__xyz.jpg, where O denotes a negative example and 1 a positive one).\n",
    "\"\"\" \n",
    "\n",
    "# os.environ['KAGGLE_USERNAME'] = \"XXX\" \n",
    "# os.environ['KAGGLE_KEY'] = \"XXX\" \n",
    "# !kaggle datasets download rhammell/ships-in-satellite-imagery -p /PATH/TO/SOURCE/IMAGES/FOLDER/ --unzip "
   ]
  },
  {
   "cell_type": "markdown",
   "metadata": {},
   "source": [
    "## Define images source path"
   ]
  },
  {
   "cell_type": "code",
   "execution_count": 2,
   "metadata": {},
   "outputs": [],
   "source": [
    "SOURCE_PATH = '/PATH/TO/SOURCE/IMAGES/FOLDER/'"
   ]
  },
  {
   "cell_type": "markdown",
   "metadata": {},
   "source": [
    "## Structure data"
   ]
  },
  {
   "cell_type": "code",
   "execution_count": 38,
   "metadata": {},
   "outputs": [
    {
     "name": "stdout",
     "output_type": "stream",
     "text": [
      "/Users/apple/ImageDataGenerator_data_prep\n",
      "There are 1000 Positives.\n",
      "There are 3000 Negatives.\n",
      "Populating Training and Test directories for \n",
      "There are 800 Training images\n",
      "There are 200 Test images\n",
      "Populating Training and Test directories for \n",
      "There are 2400 Training images\n",
      "There are 600 Test images\n"
     ]
    }
   ],
   "source": [
    "# from ImageDataGenerator_data_prep directory\n",
    "# %cd /PATH/TO/ImageDataGenerator_data_prep\n",
    "\n",
    "!python organize_idg.py \\\n",
    "-s {SOURCE_PATH} \\\n",
    "-p 0.8 # optional, default = 0.7"
   ]
  },
  {
   "cell_type": "markdown",
   "metadata": {},
   "source": [
    "## Use ImageDataGenerator to create batches of tensor image data ready for training"
   ]
  },
  {
   "cell_type": "code",
   "execution_count": 39,
   "metadata": {},
   "outputs": [
    {
     "name": "stdout",
     "output_type": "stream",
     "text": [
      "Found 3200 images belonging to 2 classes.\n",
      "Found 800 images belonging to 2 classes.\n"
     ]
    }
   ],
   "source": [
    "\"\"\"\n",
    "Run this from the ImageDataGenerator_data_prep directory \n",
    "OR\n",
    "use absolute path for TRAINING_DIR and VALIDATION_DIR\n",
    "\"\"\"\n",
    "\n",
    "TRAINING_DIR = \"training\" # use absolute path if not running from repo\n",
    "\n",
    "train_datagen = ImageDataGenerator(rescale=1./255)\n",
    "train_generator = train_datagen.flow_from_directory(TRAINING_DIR,\n",
    "                                                    batch_size=100,\n",
    "                                                    class_mode='binary',\n",
    "                                                    target_size=(150, 150))\n",
    "\n",
    "\n",
    "TEST_DIR = \"testing\" # use absolute path if not running from repo\n",
    "\n",
    "test_datagen = ImageDataGenerator(rescale=1./255)\n",
    "test_generator = test_datagen.flow_from_directory(TEST_DIR,\n",
    "                                                              batch_size=100,\n",
    "                                                              class_mode='binary',\n",
    "                                                              target_size=(150, 150))"
   ]
  }
 ],
 "metadata": {
  "kernelspec": {
   "display_name": "Python 3",
   "language": "python",
   "name": "python3"
  },
  "language_info": {
   "codemirror_mode": {
    "name": "ipython",
    "version": 3
   },
   "file_extension": ".py",
   "mimetype": "text/x-python",
   "name": "python",
   "nbconvert_exporter": "python",
   "pygments_lexer": "ipython3",
   "version": "3.7.0"
  }
 },
 "nbformat": 4,
 "nbformat_minor": 2
}
