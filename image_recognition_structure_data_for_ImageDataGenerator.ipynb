{
 "cells": [
  {
   "cell_type": "code",
   "execution_count": 1,
   "metadata": {},
   "outputs": [
    {
     "name": "stderr",
     "output_type": "stream",
     "text": [
      "Using TensorFlow backend.\n"
     ]
    }
   ],
   "source": [
    "import os\n",
    "import zipfile\n",
    "import json, sys, random\n",
    "import numpy as np\n",
    "import tensorflow as tf\n",
    "import pandas as pd\n",
    "from keras.layers import Dropout\n",
    "from tensorflow.keras.optimizers import RMSprop, Adam\n",
    "from tensorflow.keras.preprocessing.image import ImageDataGenerator\n",
    "from shutil import copyfile"
   ]
  },
  {
   "cell_type": "code",
   "execution_count": null,
   "metadata": {},
   "outputs": [],
   "source": [
    "# os.environ['KAGGLE_USERNAME'] = \"iheobula\" \n",
    "# os.environ['KAGGLE_KEY'] = \"d8a3827afff73459328099dfe56e53d0\" \n",
    "\n",
    "# !kaggle datasets download rhammell/ships-in-satellite-imagery -p /content/data --unzip "
   ]
  },
  {
   "cell_type": "markdown",
   "metadata": {},
   "source": [
    "## Input Arguments"
   ]
  },
  {
   "cell_type": "code",
   "execution_count": 66,
   "metadata": {},
   "outputs": [],
   "source": [
    "# define required arguments\n",
    "list_dirs = [\n",
    "'/Users/apple/ship_img_recognition',\n",
    "'/Users/apple/ship_img_recognition/SHIP',\n",
    "'/Users/apple/ship_img_recognition/NO_SHIP',\n",
    "'/Users/apple/ship_img_recognition/training',\n",
    "'/Users/apple/ship_img_recognition/training/ship',\n",
    "'/Users/apple/ship_img_recognition/training/no_ship',\n",
    "'/Users/apple/ship_img_recognition/testing',\n",
    "'/Users/apple/ship_img_recognition/testing/ship',\n",
    "'/Users/apple/ship_img_recognition/testing/no_ship'\n",
    "]\n",
    "\n",
    "dirs = \",\".join(list_dirs)\n",
    "SOURCE_PATH = '/Users/apple/Downloads/ships-in-satellite-imagery/shipsnet/shipsnet/'"
   ]
  },
  {
   "cell_type": "markdown",
   "metadata": {},
   "source": [
    "## Structure data"
   ]
  },
  {
   "cell_type": "code",
   "execution_count": 67,
   "metadata": {},
   "outputs": [
    {
     "name": "stdout",
     "output_type": "stream",
     "text": [
      "Using TensorFlow backend.\n",
      "There are 1000 Positives.\n",
      "There are 3000 Negatives.\n",
      "Populating Training and Test directories for ship_img_recognition\n",
      "There are 800 Training images\n",
      "There are 200 Test images\n",
      "Populating Training and Test directories for ship_img_recognition\n",
      "There are 2400 Training images\n",
      "There are 600 Test images\n"
     ]
    }
   ],
   "source": [
    "!python /Users/apple/ijeism_retinanet/organize_idg.py \\\n",
    "-l {dirs} \\\n",
    "-s {SOURCE_PATH} \\\n",
    "-p 0.8"
   ]
  },
  {
   "cell_type": "markdown",
   "metadata": {},
   "source": [
    "## Use ImageDataGenerator to create batches of tensor image data with real-time data augmentation"
   ]
  },
  {
   "cell_type": "code",
   "execution_count": 68,
   "metadata": {},
   "outputs": [
    {
     "name": "stdout",
     "output_type": "stream",
     "text": [
      "Found 3200 images belonging to 2 classes.\n",
      "Found 800 images belonging to 2 classes.\n"
     ]
    }
   ],
   "source": [
    "TRAINING_DIR = \"/Users/apple/ship_img_recognition/training/\"\n",
    "\n",
    "train_datagen = ImageDataGenerator(rescale=1./255)\n",
    "train_generator = train_datagen.flow_from_directory(TRAINING_DIR,\n",
    "                                                    batch_size=100,\n",
    "                                                    class_mode='binary',\n",
    "                                                    target_size=(150, 150))\n",
    "\n",
    "\n",
    "VALIDATION_DIR = \"/Users/apple/ship_img_recognition/testing/\"\n",
    "\n",
    "validation_datagen = ImageDataGenerator(rescale=1./255)\n",
    "validation_generator = validation_datagen.flow_from_directory(VALIDATION_DIR,\n",
    "                                                              batch_size=100,\n",
    "                                                              class_mode='binary',\n",
    "                                                              target_size=(150, 150))"
   ]
  },
  {
   "cell_type": "code",
   "execution_count": null,
   "metadata": {},
   "outputs": [],
   "source": []
  }
 ],
 "metadata": {
  "kernelspec": {
   "display_name": "Python 3",
   "language": "python",
   "name": "python3"
  },
  "language_info": {
   "codemirror_mode": {
    "name": "ipython",
    "version": 3
   },
   "file_extension": ".py",
   "mimetype": "text/x-python",
   "name": "python",
   "nbconvert_exporter": "python",
   "pygments_lexer": "ipython3",
   "version": "3.7.0"
  }
 },
 "nbformat": 4,
 "nbformat_minor": 2
}
