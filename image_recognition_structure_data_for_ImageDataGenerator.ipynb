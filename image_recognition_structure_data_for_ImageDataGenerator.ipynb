{
 "cells": [
  {
   "cell_type": "markdown",
   "metadata": {},
   "source": [
    "## Import packages"
   ]
  },
  {
   "cell_type": "code",
   "execution_count": 3,
   "metadata": {},
   "outputs": [],
   "source": [
    "import os\n",
    "import zipfile\n",
    "import json, sys, random\n",
    "import numpy as np\n",
    "import tensorflow as tf\n",
    "import pandas as pd\n",
    "\n",
    "from tensorflow.keras.preprocessing.image import ImageDataGenerator\n",
    "from shutil import copyfile"
   ]
  },
  {
   "cell_type": "code",
   "execution_count": 1,
   "metadata": {},
   "outputs": [
    {
     "name": "stdout",
     "output_type": "stream",
     "text": [
      "Cloning into 'ImageDataGenerator_data_prep'...\n",
      "remote: Enumerating objects: 14, done.\u001b[K\n",
      "remote: Counting objects: 100% (14/14), done.\u001b[K\n",
      "remote: Compressing objects: 100% (10/10), done.\u001b[K\n",
      "remote: Total 14 (delta 4), reused 9 (delta 2), pack-reused 0\u001b[K\n",
      "Unpacking objects: 100% (14/14), done.\n"
     ]
    }
   ],
   "source": [
    "!git clone https://github.com/ijeism/ImageDataGenerator_data_prep"
   ]
  },
  {
   "cell_type": "markdown",
   "metadata": {},
   "source": [
    "## Load data"
   ]
  },
  {
   "cell_type": "code",
   "execution_count": null,
   "metadata": {},
   "outputs": [],
   "source": [
    "\"\"\" \n",
    "Data for this example can be obtained from Kaggle. Make sure any data used is contained \n",
    "in one folder and that its class/label is apparent from the image name \n",
    "(i.e. 0__xyz.jpg vs 1__xyz.jpg, where O denotes a negative example and 1 a positive one).\n",
    "\"\"\" \n",
    "\n",
    "# os.environ['KAGGLE_USERNAME'] = \"XXX\" \n",
    "# os.environ['KAGGLE_KEY'] = \"XXX\" \n",
    "# !kaggle datasets download rhammell/ships-in-satellite-imagery -p /content/data --unzip "
   ]
  },
  {
   "cell_type": "markdown",
   "metadata": {},
   "source": [
    "## Define input arguments"
   ]
  },
  {
   "cell_type": "code",
   "execution_count": 6,
   "metadata": {},
   "outputs": [],
   "source": [
    "\"\"\"\n",
    "DEFINE REQUIRED ARGUMENTS\n",
    "* Define a list of 9 directories to be created in the following order:\n",
    "<PROJECT_DIR>\n",
    "    <POSITIVES>\n",
    "    <NEGATIVES>\n",
    "    <TRAINING>\n",
    "        <POSITIVES>\n",
    "        <NEGATIVES>\n",
    "    <TESTING>\n",
    "        <POSITIVES>\n",
    "        <NEGATIVES>\n",
    "\"\"\"\n",
    "\n",
    "list_dirs = [\n",
    "'/path/to/PROJECT_DIR',\n",
    "'/path/to/PROJECT_DIR/POSITIVES',\n",
    "'/path/to/PROJECT_DIR/NEGATIVES',\n",
    "'/path/to/PROJECT_DIR/TRAINING',\n",
    "'/path/to/PROJECT_DIR/TRAINING/POSITIVES',\n",
    "'/path/to/PROJECT_DIR/TRAINING/NEGATIVES',\n",
    "'/path/to/PROJECT_DIR/TESTING',\n",
    "'/path/to/PROJECT_DIR/TESTING/POSITIVES',\n",
    "'/path/to/PROJECT_DIR/TESTING/NEGATIVES'\n",
    "]\n",
    "\n",
    "dirs = \",\".join(list_dirs)\n",
    "SOURCE_PATH = '/PATH/TO/SOURCE/IMAGES/FOLDER'"
   ]
  },
  {
   "cell_type": "markdown",
   "metadata": {},
   "source": [
    "## Structure data"
   ]
  },
  {
   "cell_type": "code",
   "execution_count": 11,
   "metadata": {},
   "outputs": [
    {
     "name": "stdout",
     "output_type": "stream",
     "text": [
      "There are 1000 Positives.\n",
      "There are 3000 Negatives.\n",
      "Populating Training and Test directories for ship_img_recognition\n",
      "There are 800 Training images\n",
      "There are 200 Test images\n",
      "Populating Training and Test directories for ship_img_recognition\n",
      "There are 2400 Training images\n",
      "There are 600 Test images\n"
     ]
    }
   ],
   "source": [
    "!python /PATH/TO/ImageDataGenerator_data_prep/organize_idg.py \\\n",
    "-l {dirs} \\\n",
    "-s {SOURCE_PATH} \\\n",
    "-p 0.8 # optional, default = 0.7"
   ]
  },
  {
   "cell_type": "markdown",
   "metadata": {},
   "source": [
    "## Use ImageDataGenerator to create batches of tensor image data ready for training"
   ]
  },
  {
   "cell_type": "code",
   "execution_count": 12,
   "metadata": {},
   "outputs": [
    {
     "name": "stdout",
     "output_type": "stream",
     "text": [
      "Found 3200 images belonging to 2 classes.\n",
      "Found 800 images belonging to 2 classes.\n"
     ]
    }
   ],
   "source": [
    "TRAINING_DIR = \"/Users/apple/ship_img_recognition/training/\"\n",
    "\n",
    "train_datagen = ImageDataGenerator(rescale=1./255)\n",
    "train_generator = train_datagen.flow_from_directory(TRAINING_DIR,\n",
    "                                                    batch_size=100,\n",
    "                                                    class_mode='binary',\n",
    "                                                    target_size=(150, 150))\n",
    "\n",
    "\n",
    "VALIDATION_DIR = \"/Users/apple/ship_img_recognition/testing/\"\n",
    "\n",
    "validation_datagen = ImageDataGenerator(rescale=1./255)\n",
    "validation_generator = validation_datagen.flow_from_directory(VALIDATION_DIR,\n",
    "                                                              batch_size=100,\n",
    "                                                              class_mode='binary',\n",
    "                                                              target_size=(150, 150))"
   ]
  }
 ],
 "metadata": {
  "kernelspec": {
   "display_name": "Python 3",
   "language": "python",
   "name": "python3"
  },
  "language_info": {
   "codemirror_mode": {
    "name": "ipython",
    "version": 3
   },
   "file_extension": ".py",
   "mimetype": "text/x-python",
   "name": "python",
   "nbconvert_exporter": "python",
   "pygments_lexer": "ipython3",
   "version": "3.7.0"
  }
 },
 "nbformat": 4,
 "nbformat_minor": 2
}
